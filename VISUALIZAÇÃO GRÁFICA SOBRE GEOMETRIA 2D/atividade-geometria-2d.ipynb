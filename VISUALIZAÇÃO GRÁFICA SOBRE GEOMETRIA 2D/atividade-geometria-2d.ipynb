{
  "nbformat": 4,
  "nbformat_minor": 0,
  "metadata": {
    "colab": {
      "name": "Atividade geometria 2d",
      "provenance": [],
      "collapsed_sections": []
    },
    "kernelspec": {
      "name": "python3",
      "display_name": "Python 3"
    },
    "language_info": {
      "name": "python"
    }
  },
  "cells": [
    {
      "cell_type": "markdown",
      "source": [
        "# **EXERCICIO 1**"
      ],
      "metadata": {
        "id": "CxloEeb5-dgc"
      }
    },
    {
      "cell_type": "code",
      "execution_count": null,
      "metadata": {
        "colab": {
          "base_uri": "https://localhost:8080/",
          "height": 387
        },
        "id": "kxIHS-TU9Ddm",
        "outputId": "4ddac5c3-7191-49eb-ec44-9b72550bc2c0"
      },
      "outputs": [
        {
          "output_type": "display_data",
          "data": {
            "text/plain": [
              "<Figure size 432x288 with 1 Axes>"
            ],
            "image/png": "[encoded data removed]"
          },
          "metadata": {
            "needs_background": "light"
          }
        },
        {
          "output_type": "stream",
          "name": "stdout",
          "text": [
            "Coordenadas do vetor no sistema {A}:\n",
            "[x]=[5.000000]\n",
            "[y]=[5.000000]\n",
            "\n",
            "Coordenadas do vetor no sistema {B}:\n",
            "[x]=[6.762096]\n",
            "[y]=[2.067380]\n"
          ]
        }
      ],
      "source": [
        "import numpy as np\n",
        "import matplotlib.pyplot as plt\n",
        "from matplotlib.ticker import (AutoMinorLocator, MultipleLocator)\n",
        "\n",
        "######################################################################################\n",
        "############################### FUNÇÕES DE ROTAÇÃO ###################################\n",
        "######################################################################################\n",
        "\n",
        "#Função que cria matrizes de rotação\n",
        "def rot2d(ang):\n",
        "  #Criação da matriz R \n",
        "  theta = np.radians(ang)\n",
        "  ct = np.cos(theta)\n",
        "  st = np.sin(theta)\n",
        "  return np.array(( (ct, -st), \n",
        "                    (st,  ct) ))\n",
        "  \n",
        "######################################################################################\n",
        "############################### APLICANDO AS ROTAÇÕES ################################\n",
        "######################################################################################\n",
        "\n",
        "# Vetores dados no sistema {A}\n",
        "Oa = np.array((0,0)) #Origem de {A}\n",
        "Xa = np.array((10,0)) # seta do eixo x (vermelho)\n",
        "Ya = np.array((0,10)) # seta do eixo y (azul)\n",
        "\n",
        "Va = np.array((5,5)) #seta do vetor (verde)\n",
        "\n",
        "R = rot2d(28) #Criação da matriz R \n",
        "\n",
        "# Vetores convertidos para o sistema {B}\n",
        "# Esta simplificação de código é válida, pois as coordenadas dos vetores unitários tanto em {A} como em {B} são as mesmas \n",
        "Ob = np.dot(R,Oa) # Origem de {A} rotacionada para o sistema {B}\n",
        "Xb = np.dot(R,Xa) # seta do eixo x (vermelho), rotacionada para o sistema {B}\n",
        "Yb = np.dot(R,Ya) # seta do eixo y (azul), rotacionada para o sistema {B}\n",
        "\n",
        "######################################################################################\n",
        "############################### PLOT #################################################\n",
        "######################################################################################\n",
        "plt.figure()\n",
        "ax = plt.gca()\n",
        "\n",
        "# Plota o vetor [v]\n",
        "ax.quiver(Oa[0], Oa[1], Va[0], Va[1], color='green', width = 0.01, angles='xy', scale_units='xy', scale=1)\n",
        "\n",
        "ax.quiver(Oa[0], Oa[1], Xa[0], Xa[1], color='black', width = 0.01, angles='xy', scale_units='xy', scale=1)\n",
        "ax.quiver(Oa[0], Oa[1], Ya[0], Ya[1], color='black', width = 0.01, angles='xy', scale_units='xy', scale=1)\n",
        "\n",
        "ax.quiver(Ob[0], Ob[1], Xb[0], Xb[1], color='blue', width = 0.01, angles='xy', scale_units='xy', scale=1)\n",
        "ax.quiver(Ob[0], Ob[1], Yb[0], Yb[1], color='blue', width = 0.01, angles='xy', scale_units='xy', scale=1)\n",
        "\n",
        "#ax.xaxis.set_major_locator(MultipleLocator(0.5))\n",
        "#ax.yaxis.set_major_locator(MultipleLocator(0.5))\n",
        "\n",
        "lim = 11\n",
        "ax.set_xlim(-5, lim)\n",
        "ax.set_ylim(-1,lim)\n",
        "ax.set_aspect('equal', 'box')\n",
        "\n",
        "plt.grid()\n",
        "plt.show()\n",
        "\n",
        "print(\"Coordenadas do vetor no sistema {A}:\")\n",
        "print(\"[x]=[%f]\\n[y]=[%f]\" % (Va[0], Va[1]))\n",
        "\n",
        "RVa = np.dot(R.transpose(),Va)\n",
        "print(\"\\nCoordenadas do vetor no sistema {B}:\")\n",
        "print(\"[x]=[%f]\\n[y]=[%f]\" % (RVa[0], RVa[1]))"
      ]
    },
    {
      "cell_type": "markdown",
      "source": [
        "# **EXERCICIO 2**"
      ],
      "metadata": {
        "id": "sc4-3oMN-0PL"
      }
    },
    {
      "cell_type": "code",
      "source": [
        "import numpy as np\n",
        "import matplotlib.pyplot as plt\n",
        "from matplotlib.ticker import (AutoMinorLocator, MultipleLocator)\n",
        "\n",
        "def t_homogenea(theta, xt, yt):\n",
        "  theta = np.radians(theta)\n",
        "  ct = np.cos(theta)\n",
        "  st = np.sin(theta)\n",
        "  return np.array(( (ct, -st, xt), \n",
        "                    (st,  ct, yt),\n",
        "                    (0 ,   0, 1) ))\n",
        "\n",
        "#Matriz de transformação homogênea inicial (rotacao R (Theta) e translacao (X, Y))\n",
        "TH = np.array(( (0.92718385, -0.37460659, 3), \n",
        "                (0.37460659 , 0.92718385, 2),\n",
        "                (0,  0, 1) ))\n",
        "\n",
        "# Argumentos que geram a funcao em t_homogenea\n",
        "Theta = np.degrees(np.arccos(TH[0,0]))\n",
        "Xt = TH[0,2]\n",
        "Yt = TH[1,2]\n",
        "\n",
        "Argumentos = (Theta, Xt, Yt)\n",
        "Argumentos\n",
        "\n",
        "print(\"Argumentos para gerar a transformacao desejada: \\n\", Argumentos, end=\"\\n\")\n",
        "\n",
        "print(\"\\n\")\n",
        "\n",
        "conferindo = t_homogenea(Theta, Xt, Yt)\n",
        "print(\"Resultado da conferencia:  \\n\", conferindo)\n",
        "#conferindo"
      ],
      "metadata": {
        "colab": {
          "base_uri": "https://localhost:8080/"
        },
        "id": "fiENAvvo-6r6",
        "outputId": "0c91e2d6-8204-44b9-cf82-87258f69fb87"
      },
      "execution_count": null,
      "outputs": [
        {
          "output_type": "stream",
          "name": "stdout",
          "text": [
            "Argumentos para gerar a transformacao desejada: \n",
            " (22.000000698486474, 3.0, 2.0)\n",
            "\n",
            "\n",
            "Resultado da conferencia:  \n",
            " [[ 0.92718385 -0.3746066   3.        ]\n",
            " [ 0.3746066   0.92718385  2.        ]\n",
            " [ 0.          0.          1.        ]]\n"
          ]
        }
      ]
    },
    {
      "cell_type": "markdown",
      "source": [
        "# EXERCICIO 3"
      ],
      "metadata": {
        "id": "dhNHR_xzENOY"
      }
    },
    {
      "cell_type": "code",
      "source": [
        "import numpy as np\n",
        "import matplotlib.pyplot as plt\n",
        "from matplotlib.ticker import (AutoMinorLocator, MultipleLocator)\n",
        " \n",
        "######################################################################################\n",
        "####################### FUNÇÕES DE TRANSFORMAÇÃO HOMOGÊNEA ###########################\n",
        "######################################################################################\n",
        "def t_homogenea(theta, xt, yt):\n",
        "  theta = np.radians(theta)\n",
        "  ct = np.cos(theta)\n",
        "  st = np.sin(theta)\n",
        "  return np.array(( (ct, -st, xt), \n",
        "                    (st,  ct, yt),\n",
        "                    (0 ,   0, 1) ))\n",
        "  \n",
        "######################################################################################\n",
        "########################## APLICANDO AS TRANSFORMAÇÕES ###############################\n",
        "######################################################################################\n",
        "#Vetores das setas do sistema {A}, dados no próprio referencial de coordenadas\n",
        "Oa = np.array((0,0,1)) # Origem de {A} em coordenadas homogêneas\n",
        "Xa = np.array((3,0,1)) # Seta do eixo x (vermelho) em coordenadas homogêneas\n",
        "Ya = np.array((0,3,1)) # Seta do eixo y (azul) em coordenadas homogêneas\n",
        " \n",
        "#Vetores das setas do sistema {B}, dados no próprio referencial de coordenadas\n",
        "Ob = np.array((0,0,1)) # Origem de {B} em coordenadas homogêneas\n",
        "Xb = np.array((3,0,1)) # Seta do eixo x (vermelho), dada no sistema {B} em coordenadas homogêneas \n",
        "Yb = np.array((0,3,1)) # Seta do eixo y (azul), dada no sistema {B} em coordenadas homogêneas\n",
        " \n",
        "#Vetores das setas do sistema {C}, dados no próprio referencial de coordenadas\n",
        "Oc = np.array((0,0,1)) # Origem de {C} em coordenadas homogêneas\n",
        "Xc = np.array((3,0,1)) # Seta do eixo x (vermelho), dada no sistema {C} em coordenadas homogêneas \n",
        "Yc = np.array((0,3,1)) # Seta do eixo y (azul), dada no sistema {C} em coordenadas homogêneas\n",
        " \n",
        "#Criação da matriz T1: Transforma de {B} para {A}\n",
        "T1 = t_homogenea(45, 8.0, 5.0) \n",
        " \n",
        "#Criação da matriz T2: Transforma de {C} para {A}\n",
        "T2 = t_homogenea(-30, 2.0, -5.0)\n",
        " \n",
        "# Tranfosrmação homogênea dos vetores\n",
        "Ob2a = np.dot(T1,Ob) # Origem do sistema {B} transformada para {A}\n",
        "Xb2a = np.dot(T1,Xb) # Rotação Xb2a = T1 * Xb\n",
        "Yb2a = np.dot(T1,Yb) # Rotação Yb2a = T1 * Yb\n",
        " \n",
        "Oc2a = np.dot(T2,Oc) # Origem do sistema {C} transformada para {A}\n",
        "Xc2a = np.dot(T2,Xc) # Rotação Xc2a = T3 * Xc\n",
        "Yc2a = np.dot(T2,Yc) # Rotação Yc2a = T3 * Yc\n",
        "\n",
        "######################################################################################\n",
        "############################### PLOT #################################################\n",
        "######################################################################################\n",
        "plt.figure(figsize=(10,10))\n",
        "ax = plt.gca()\n",
        " \n",
        "ax.quiver(Oa[0], Oa[1], Xa[0], Xa[1], color='r', width = 0.01, angles='xy', scale_units='xy', scale=1)\n",
        "ax.quiver(Oa[0], Oa[1], Ya[0], Ya[1], color='b', width = 0.01, angles='xy', scale_units='xy', scale=1)\n",
        " \n",
        "ax.quiver(Ob2a[0], Ob2a[1], Xb2a[0]-Ob2a[0], Xb2a[1]-Ob2a[1], color='r', width = 0.01, angles='xy', scale_units='xy', scale=1)\n",
        "ax.quiver(Ob2a[0], Ob2a[1], Yb2a[0]-Ob2a[0], Yb2a[1]-Ob2a[1], color='b', width = 0.01, angles='xy', scale_units='xy', scale=1)\n",
        " \n",
        "ax.quiver(Oc2a[0], Oc2a[1], Xc2a[0]-Oc2a[0], Xc2a[1]-Oc2a[1], color='r', width = 0.01, angles='xy', scale_units='xy', scale=1)\n",
        "ax.quiver(Oc2a[0], Oc2a[1], Yc2a[0]-Oc2a[0], Yc2a[1]-Oc2a[1], color='b', width = 0.01, angles='xy', scale_units='xy', scale=1)\n",
        "\n",
        "ax.xaxis.set_major_locator(MultipleLocator(1))\n",
        "ax.yaxis.set_major_locator(MultipleLocator(1))\n",
        " \n",
        "#plota o ponto\n",
        "\n",
        "ponto = (6,3,1)\n",
        "\n",
        "Pb_rotacionado = np.dot(np.linalg.inv(T1), ponto)\n",
        "Pc_rotacionado = np.dot(np.linalg.inv(T2), ponto)\n",
        "\n",
        "ax.plot(ponto[0], ponto[1], 'g*')\n",
        " \n",
        "lim = 12\n",
        "ax.set_xlim(-1, 11)\n",
        "ax.set_ylim(-7, 8)\n",
        "ax.set_aspect('equal', 'box')\n",
        "\n",
        "plt.grid(True)\n",
        "plt.show()\n",
        "\n",
        "print(\"Em A: (%.2f , %.2f)\" % (ponto[0], ponto[1]))\n",
        "print(\"Em B: (%.2f , %.2f)\" % (Pb_rotacionado[0], Pb_rotacionado[1]))\n",
        "print(\"Em C: (%.2f , %.2f)\" % (Pc_rotacionado[0], Pc_rotacionado[1]))"
      ],
      "metadata": {
        "colab": {
          "base_uri": "https://localhost:8080/",
          "height": 648
        },
        "id": "kKoXeFnwEQMX",
        "outputId": "20b41a8b-ce23-46fe-db3e-9192ead4c512"
      },
      "execution_count": null,
      "outputs": [
        {
          "output_type": "display_data",
          "data": {
            "text/plain": [
              "<Figure size 720x720 with 1 Axes>"
            ],
            "image/png": "[encoded data removed]"
          },
          "metadata": {
            "needs_background": "light"
          }
        },
        {
          "output_type": "stream",
          "name": "stdout",
          "text": [
            "Em A: (6.00 , 3.00)\n",
            "Em B: (-2.83 , -0.00)\n",
            "Em C: (-0.54 , 8.93)\n"
          ]
        }
      ]
    }
  ]
}